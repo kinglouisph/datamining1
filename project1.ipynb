{
 "cells": [
  {
   "cell_type": "code",
   "execution_count": 59,
   "id": "558fcf7b-3c16-4ace-b429-a6daba481c1a",
   "metadata": {},
   "outputs": [],
   "source": [
    "import numpy as np\n",
    "import pandas as pd\n",
    "import datetime as dt\n",
    "import math as math"
   ]
  },
  {
   "cell_type": "code",
   "execution_count": 2,
   "id": "ec89d2fc-c467-4d82-a7dc-4a30a709a5d6",
   "metadata": {},
   "outputs": [],
   "source": [
    "weather = pd.read_csv('WeatherEvents_Jan2016-Dec2022.csv') #1GB so takes some time"
   ]
  },
  {
   "cell_type": "code",
   "execution_count": 3,
   "id": "96c507e9-7d96-44c8-9c5c-6dcdd9c9c215",
   "metadata": {},
   "outputs": [
    {
     "data": {
      "text/plain": [
       "(8627181, 14)"
      ]
     },
     "execution_count": 3,
     "metadata": {},
     "output_type": "execute_result"
    }
   ],
   "source": [
    "weather.shape"
   ]
  },
  {
   "cell_type": "code",
   "execution_count": 4,
   "id": "b23739ff-4770-411b-9291-0e818b655d1a",
   "metadata": {},
   "outputs": [
    {
     "data": {
      "text/html": [
       "<div>\n",
       "<style scoped>\n",
       "    .dataframe tbody tr th:only-of-type {\n",
       "        vertical-align: middle;\n",
       "    }\n",
       "\n",
       "    .dataframe tbody tr th {\n",
       "        vertical-align: top;\n",
       "    }\n",
       "\n",
       "    .dataframe thead th {\n",
       "        text-align: right;\n",
       "    }\n",
       "</style>\n",
       "<table border=\"1\" class=\"dataframe\">\n",
       "  <thead>\n",
       "    <tr style=\"text-align: right;\">\n",
       "      <th></th>\n",
       "      <th>EventId</th>\n",
       "      <th>Type</th>\n",
       "      <th>Severity</th>\n",
       "      <th>StartTime(UTC)</th>\n",
       "      <th>EndTime(UTC)</th>\n",
       "      <th>Precipitation(in)</th>\n",
       "      <th>TimeZone</th>\n",
       "      <th>AirportCode</th>\n",
       "      <th>LocationLat</th>\n",
       "      <th>LocationLng</th>\n",
       "      <th>City</th>\n",
       "      <th>County</th>\n",
       "      <th>State</th>\n",
       "      <th>ZipCode</th>\n",
       "    </tr>\n",
       "  </thead>\n",
       "  <tbody>\n",
       "    <tr>\n",
       "      <th>0</th>\n",
       "      <td>W-1</td>\n",
       "      <td>Snow</td>\n",
       "      <td>Light</td>\n",
       "      <td>2016-01-06 23:14:00</td>\n",
       "      <td>2016-01-07 00:34:00</td>\n",
       "      <td>0.00</td>\n",
       "      <td>US/Mountain</td>\n",
       "      <td>K04V</td>\n",
       "      <td>38.0972</td>\n",
       "      <td>-106.1689</td>\n",
       "      <td>Saguache</td>\n",
       "      <td>Saguache</td>\n",
       "      <td>CO</td>\n",
       "      <td>81149.0</td>\n",
       "    </tr>\n",
       "    <tr>\n",
       "      <th>1</th>\n",
       "      <td>W-2</td>\n",
       "      <td>Snow</td>\n",
       "      <td>Light</td>\n",
       "      <td>2016-01-07 04:14:00</td>\n",
       "      <td>2016-01-07 04:54:00</td>\n",
       "      <td>0.00</td>\n",
       "      <td>US/Mountain</td>\n",
       "      <td>K04V</td>\n",
       "      <td>38.0972</td>\n",
       "      <td>-106.1689</td>\n",
       "      <td>Saguache</td>\n",
       "      <td>Saguache</td>\n",
       "      <td>CO</td>\n",
       "      <td>81149.0</td>\n",
       "    </tr>\n",
       "    <tr>\n",
       "      <th>2</th>\n",
       "      <td>W-3</td>\n",
       "      <td>Snow</td>\n",
       "      <td>Light</td>\n",
       "      <td>2016-01-07 05:54:00</td>\n",
       "      <td>2016-01-07 15:34:00</td>\n",
       "      <td>0.03</td>\n",
       "      <td>US/Mountain</td>\n",
       "      <td>K04V</td>\n",
       "      <td>38.0972</td>\n",
       "      <td>-106.1689</td>\n",
       "      <td>Saguache</td>\n",
       "      <td>Saguache</td>\n",
       "      <td>CO</td>\n",
       "      <td>81149.0</td>\n",
       "    </tr>\n",
       "    <tr>\n",
       "      <th>3</th>\n",
       "      <td>W-4</td>\n",
       "      <td>Snow</td>\n",
       "      <td>Light</td>\n",
       "      <td>2016-01-08 05:34:00</td>\n",
       "      <td>2016-01-08 05:54:00</td>\n",
       "      <td>0.00</td>\n",
       "      <td>US/Mountain</td>\n",
       "      <td>K04V</td>\n",
       "      <td>38.0972</td>\n",
       "      <td>-106.1689</td>\n",
       "      <td>Saguache</td>\n",
       "      <td>Saguache</td>\n",
       "      <td>CO</td>\n",
       "      <td>81149.0</td>\n",
       "    </tr>\n",
       "    <tr>\n",
       "      <th>4</th>\n",
       "      <td>W-5</td>\n",
       "      <td>Snow</td>\n",
       "      <td>Light</td>\n",
       "      <td>2016-01-08 13:54:00</td>\n",
       "      <td>2016-01-08 15:54:00</td>\n",
       "      <td>0.00</td>\n",
       "      <td>US/Mountain</td>\n",
       "      <td>K04V</td>\n",
       "      <td>38.0972</td>\n",
       "      <td>-106.1689</td>\n",
       "      <td>Saguache</td>\n",
       "      <td>Saguache</td>\n",
       "      <td>CO</td>\n",
       "      <td>81149.0</td>\n",
       "    </tr>\n",
       "  </tbody>\n",
       "</table>\n",
       "</div>"
      ],
      "text/plain": [
       "  EventId  Type Severity       StartTime(UTC)         EndTime(UTC)  \\\n",
       "0     W-1  Snow    Light  2016-01-06 23:14:00  2016-01-07 00:34:00   \n",
       "1     W-2  Snow    Light  2016-01-07 04:14:00  2016-01-07 04:54:00   \n",
       "2     W-3  Snow    Light  2016-01-07 05:54:00  2016-01-07 15:34:00   \n",
       "3     W-4  Snow    Light  2016-01-08 05:34:00  2016-01-08 05:54:00   \n",
       "4     W-5  Snow    Light  2016-01-08 13:54:00  2016-01-08 15:54:00   \n",
       "\n",
       "   Precipitation(in)     TimeZone AirportCode  LocationLat  LocationLng  \\\n",
       "0               0.00  US/Mountain        K04V      38.0972    -106.1689   \n",
       "1               0.00  US/Mountain        K04V      38.0972    -106.1689   \n",
       "2               0.03  US/Mountain        K04V      38.0972    -106.1689   \n",
       "3               0.00  US/Mountain        K04V      38.0972    -106.1689   \n",
       "4               0.00  US/Mountain        K04V      38.0972    -106.1689   \n",
       "\n",
       "       City    County State  ZipCode  \n",
       "0  Saguache  Saguache    CO  81149.0  \n",
       "1  Saguache  Saguache    CO  81149.0  \n",
       "2  Saguache  Saguache    CO  81149.0  \n",
       "3  Saguache  Saguache    CO  81149.0  \n",
       "4  Saguache  Saguache    CO  81149.0  "
      ]
     },
     "execution_count": 4,
     "metadata": {},
     "output_type": "execute_result"
    }
   ],
   "source": [
    "weather.head()"
   ]
  },
  {
   "cell_type": "code",
   "execution_count": 5,
   "id": "2604a73d-2d12-43ab-9102-f2cff6ff3e50",
   "metadata": {},
   "outputs": [
    {
     "data": {
      "text/html": [
       "<div>\n",
       "<style scoped>\n",
       "    .dataframe tbody tr th:only-of-type {\n",
       "        vertical-align: middle;\n",
       "    }\n",
       "\n",
       "    .dataframe tbody tr th {\n",
       "        vertical-align: top;\n",
       "    }\n",
       "\n",
       "    .dataframe thead th {\n",
       "        text-align: right;\n",
       "    }\n",
       "</style>\n",
       "<table border=\"1\" class=\"dataframe\">\n",
       "  <thead>\n",
       "    <tr style=\"text-align: right;\">\n",
       "      <th></th>\n",
       "      <th>EventId</th>\n",
       "      <th>Type</th>\n",
       "      <th>Severity</th>\n",
       "      <th>StartTime(UTC)</th>\n",
       "      <th>EndTime(UTC)</th>\n",
       "      <th>Precipitation(in)</th>\n",
       "      <th>TimeZone</th>\n",
       "      <th>AirportCode</th>\n",
       "      <th>LocationLat</th>\n",
       "      <th>LocationLng</th>\n",
       "      <th>City</th>\n",
       "      <th>County</th>\n",
       "      <th>State</th>\n",
       "      <th>ZipCode</th>\n",
       "    </tr>\n",
       "  </thead>\n",
       "  <tbody>\n",
       "    <tr>\n",
       "      <th>8627176</th>\n",
       "      <td>W-9091890</td>\n",
       "      <td>Snow</td>\n",
       "      <td>Light</td>\n",
       "      <td>2022-12-21 23:00:00</td>\n",
       "      <td>2022-12-21 23:42:00</td>\n",
       "      <td>0.01</td>\n",
       "      <td>US/Mountain</td>\n",
       "      <td>KBVR</td>\n",
       "      <td>42.5833</td>\n",
       "      <td>-108.2833</td>\n",
       "      <td>Lander</td>\n",
       "      <td>Fremont</td>\n",
       "      <td>WY</td>\n",
       "      <td>82520.0</td>\n",
       "    </tr>\n",
       "    <tr>\n",
       "      <th>8627177</th>\n",
       "      <td>W-9091891</td>\n",
       "      <td>Snow</td>\n",
       "      <td>Moderate</td>\n",
       "      <td>2022-12-21 23:42:00</td>\n",
       "      <td>2022-12-21 23:53:00</td>\n",
       "      <td>0.04</td>\n",
       "      <td>US/Mountain</td>\n",
       "      <td>KBVR</td>\n",
       "      <td>42.5833</td>\n",
       "      <td>-108.2833</td>\n",
       "      <td>Lander</td>\n",
       "      <td>Fremont</td>\n",
       "      <td>WY</td>\n",
       "      <td>82520.0</td>\n",
       "    </tr>\n",
       "    <tr>\n",
       "      <th>8627178</th>\n",
       "      <td>W-9091892</td>\n",
       "      <td>Cold</td>\n",
       "      <td>Severe</td>\n",
       "      <td>2022-12-21 23:53:00</td>\n",
       "      <td>2022-12-24 02:53:00</td>\n",
       "      <td>0.00</td>\n",
       "      <td>US/Mountain</td>\n",
       "      <td>KBVR</td>\n",
       "      <td>42.5833</td>\n",
       "      <td>-108.2833</td>\n",
       "      <td>Lander</td>\n",
       "      <td>Fremont</td>\n",
       "      <td>WY</td>\n",
       "      <td>82520.0</td>\n",
       "    </tr>\n",
       "    <tr>\n",
       "      <th>8627179</th>\n",
       "      <td>W-9091893</td>\n",
       "      <td>Cold</td>\n",
       "      <td>Severe</td>\n",
       "      <td>2022-12-24 03:53:00</td>\n",
       "      <td>2022-12-24 07:53:00</td>\n",
       "      <td>0.00</td>\n",
       "      <td>US/Mountain</td>\n",
       "      <td>KBVR</td>\n",
       "      <td>42.5833</td>\n",
       "      <td>-108.2833</td>\n",
       "      <td>Lander</td>\n",
       "      <td>Fremont</td>\n",
       "      <td>WY</td>\n",
       "      <td>82520.0</td>\n",
       "    </tr>\n",
       "    <tr>\n",
       "      <th>8627180</th>\n",
       "      <td>W-9091894</td>\n",
       "      <td>Cold</td>\n",
       "      <td>Severe</td>\n",
       "      <td>2022-12-24 09:53:00</td>\n",
       "      <td>2022-12-24 11:53:00</td>\n",
       "      <td>0.00</td>\n",
       "      <td>US/Mountain</td>\n",
       "      <td>KBVR</td>\n",
       "      <td>42.5833</td>\n",
       "      <td>-108.2833</td>\n",
       "      <td>Lander</td>\n",
       "      <td>Fremont</td>\n",
       "      <td>WY</td>\n",
       "      <td>82520.0</td>\n",
       "    </tr>\n",
       "  </tbody>\n",
       "</table>\n",
       "</div>"
      ],
      "text/plain": [
       "           EventId  Type  Severity       StartTime(UTC)         EndTime(UTC)  \\\n",
       "8627176  W-9091890  Snow     Light  2022-12-21 23:00:00  2022-12-21 23:42:00   \n",
       "8627177  W-9091891  Snow  Moderate  2022-12-21 23:42:00  2022-12-21 23:53:00   \n",
       "8627178  W-9091892  Cold    Severe  2022-12-21 23:53:00  2022-12-24 02:53:00   \n",
       "8627179  W-9091893  Cold    Severe  2022-12-24 03:53:00  2022-12-24 07:53:00   \n",
       "8627180  W-9091894  Cold    Severe  2022-12-24 09:53:00  2022-12-24 11:53:00   \n",
       "\n",
       "         Precipitation(in)     TimeZone AirportCode  LocationLat  LocationLng  \\\n",
       "8627176               0.01  US/Mountain        KBVR      42.5833    -108.2833   \n",
       "8627177               0.04  US/Mountain        KBVR      42.5833    -108.2833   \n",
       "8627178               0.00  US/Mountain        KBVR      42.5833    -108.2833   \n",
       "8627179               0.00  US/Mountain        KBVR      42.5833    -108.2833   \n",
       "8627180               0.00  US/Mountain        KBVR      42.5833    -108.2833   \n",
       "\n",
       "           City   County State  ZipCode  \n",
       "8627176  Lander  Fremont    WY  82520.0  \n",
       "8627177  Lander  Fremont    WY  82520.0  \n",
       "8627178  Lander  Fremont    WY  82520.0  \n",
       "8627179  Lander  Fremont    WY  82520.0  \n",
       "8627180  Lander  Fremont    WY  82520.0  "
      ]
     },
     "execution_count": 5,
     "metadata": {},
     "output_type": "execute_result"
    }
   ],
   "source": [
    "weather.tail()"
   ]
  },
  {
   "cell_type": "code",
   "execution_count": 6,
   "id": "0a4b9faa-2713-4a9d-8299-9140898208f3",
   "metadata": {},
   "outputs": [
    {
     "data": {
      "text/plain": [
       "EventId                  0\n",
       "Type                     0\n",
       "Severity                 0\n",
       "StartTime(UTC)           0\n",
       "EndTime(UTC)             0\n",
       "Precipitation(in)        0\n",
       "TimeZone                 0\n",
       "AirportCode              0\n",
       "LocationLat              0\n",
       "LocationLng              0\n",
       "City                 16912\n",
       "County                   0\n",
       "State                    0\n",
       "ZipCode              69199\n",
       "dtype: int64"
      ]
     },
     "execution_count": 6,
     "metadata": {},
     "output_type": "execute_result"
    }
   ],
   "source": [
    "#count nulls\n",
    "weather.isna().sum()"
   ]
  },
  {
   "cell_type": "code",
   "execution_count": 7,
   "id": "31f4a336-89fd-403d-88d2-6afaf88e467d",
   "metadata": {},
   "outputs": [
    {
     "data": {
      "text/plain": [
       "2071"
      ]
     },
     "execution_count": 7,
     "metadata": {},
     "output_type": "execute_result"
    }
   ],
   "source": [
    "nunique = len(weather.AirportCode.unique())\n",
    "nunique"
   ]
  },
  {
   "cell_type": "code",
   "execution_count": 8,
   "id": "469f4f7d-3c87-4104-9434-863f6367c457",
   "metadata": {},
   "outputs": [
    {
     "data": {
      "text/plain": [
       "array(['Snow', 'Fog', 'Cold', 'Storm', 'Rain', 'Precipitation', 'Hail'],\n",
       "      dtype=object)"
      ]
     },
     "execution_count": 8,
     "metadata": {},
     "output_type": "execute_result"
    }
   ],
   "source": [
    "weather.Type.unique()"
   ]
  },
  {
   "cell_type": "code",
   "execution_count": 9,
   "id": "dac2352a-57c6-40be-a21a-2b6aa5ed79eb",
   "metadata": {},
   "outputs": [
    {
     "data": {
      "text/plain": [
       "(2071, 14)"
      ]
     },
     "execution_count": 9,
     "metadata": {},
     "output_type": "execute_result"
    }
   ],
   "source": [
    "types = ['Cold', 'Fog', 'Hail', 'Rain', 'Snow', 'Storm', 'Precipitation']\n",
    "\n",
    "columnTypes = []\n",
    "for i in types:\n",
    "    columnTypes.append('in' + i)\n",
    "    columnTypes.append('sec' + i)\n",
    "\n",
    "#make df for aggregation\n",
    "aggregateData = pd.DataFrame(0,index=weather.AirportCode.unique(), columns=columnTypes, dtype=np.float64)\n",
    "aggregateData.shape"
   ]
  },
  {
   "cell_type": "code",
   "execution_count": 10,
   "id": "e56a07f8-d69f-457c-b844-621aab6555e8",
   "metadata": {},
   "outputs": [
    {
     "data": {
      "text/html": [
       "<div>\n",
       "<style scoped>\n",
       "    .dataframe tbody tr th:only-of-type {\n",
       "        vertical-align: middle;\n",
       "    }\n",
       "\n",
       "    .dataframe tbody tr th {\n",
       "        vertical-align: top;\n",
       "    }\n",
       "\n",
       "    .dataframe thead th {\n",
       "        text-align: right;\n",
       "    }\n",
       "</style>\n",
       "<table border=\"1\" class=\"dataframe\">\n",
       "  <thead>\n",
       "    <tr style=\"text-align: right;\">\n",
       "      <th></th>\n",
       "      <th>inCold</th>\n",
       "      <th>secCold</th>\n",
       "      <th>inFog</th>\n",
       "      <th>secFog</th>\n",
       "      <th>inHail</th>\n",
       "      <th>secHail</th>\n",
       "      <th>inRain</th>\n",
       "      <th>secRain</th>\n",
       "      <th>inSnow</th>\n",
       "      <th>secSnow</th>\n",
       "      <th>inStorm</th>\n",
       "      <th>secStorm</th>\n",
       "      <th>inPrecipitation</th>\n",
       "      <th>secPrecipitation</th>\n",
       "    </tr>\n",
       "  </thead>\n",
       "  <tbody>\n",
       "    <tr>\n",
       "      <th>K04V</th>\n",
       "      <td>0.0</td>\n",
       "      <td>0.0</td>\n",
       "      <td>0.0</td>\n",
       "      <td>0.0</td>\n",
       "      <td>0.0</td>\n",
       "      <td>0.0</td>\n",
       "      <td>0.0</td>\n",
       "      <td>0.0</td>\n",
       "      <td>0.0</td>\n",
       "      <td>0.0</td>\n",
       "      <td>0.0</td>\n",
       "      <td>0.0</td>\n",
       "      <td>0.0</td>\n",
       "      <td>0.0</td>\n",
       "    </tr>\n",
       "    <tr>\n",
       "      <th>KAXS</th>\n",
       "      <td>0.0</td>\n",
       "      <td>0.0</td>\n",
       "      <td>0.0</td>\n",
       "      <td>0.0</td>\n",
       "      <td>0.0</td>\n",
       "      <td>0.0</td>\n",
       "      <td>0.0</td>\n",
       "      <td>0.0</td>\n",
       "      <td>0.0</td>\n",
       "      <td>0.0</td>\n",
       "      <td>0.0</td>\n",
       "      <td>0.0</td>\n",
       "      <td>0.0</td>\n",
       "      <td>0.0</td>\n",
       "    </tr>\n",
       "    <tr>\n",
       "      <th>KAEL</th>\n",
       "      <td>0.0</td>\n",
       "      <td>0.0</td>\n",
       "      <td>0.0</td>\n",
       "      <td>0.0</td>\n",
       "      <td>0.0</td>\n",
       "      <td>0.0</td>\n",
       "      <td>0.0</td>\n",
       "      <td>0.0</td>\n",
       "      <td>0.0</td>\n",
       "      <td>0.0</td>\n",
       "      <td>0.0</td>\n",
       "      <td>0.0</td>\n",
       "      <td>0.0</td>\n",
       "      <td>0.0</td>\n",
       "    </tr>\n",
       "    <tr>\n",
       "      <th>KBTR</th>\n",
       "      <td>0.0</td>\n",
       "      <td>0.0</td>\n",
       "      <td>0.0</td>\n",
       "      <td>0.0</td>\n",
       "      <td>0.0</td>\n",
       "      <td>0.0</td>\n",
       "      <td>0.0</td>\n",
       "      <td>0.0</td>\n",
       "      <td>0.0</td>\n",
       "      <td>0.0</td>\n",
       "      <td>0.0</td>\n",
       "      <td>0.0</td>\n",
       "      <td>0.0</td>\n",
       "      <td>0.0</td>\n",
       "    </tr>\n",
       "    <tr>\n",
       "      <th>KCMY</th>\n",
       "      <td>0.0</td>\n",
       "      <td>0.0</td>\n",
       "      <td>0.0</td>\n",
       "      <td>0.0</td>\n",
       "      <td>0.0</td>\n",
       "      <td>0.0</td>\n",
       "      <td>0.0</td>\n",
       "      <td>0.0</td>\n",
       "      <td>0.0</td>\n",
       "      <td>0.0</td>\n",
       "      <td>0.0</td>\n",
       "      <td>0.0</td>\n",
       "      <td>0.0</td>\n",
       "      <td>0.0</td>\n",
       "    </tr>\n",
       "  </tbody>\n",
       "</table>\n",
       "</div>"
      ],
      "text/plain": [
       "      inCold  secCold  inFog  secFog  inHail  secHail  inRain  secRain  \\\n",
       "K04V     0.0      0.0    0.0     0.0     0.0      0.0     0.0      0.0   \n",
       "KAXS     0.0      0.0    0.0     0.0     0.0      0.0     0.0      0.0   \n",
       "KAEL     0.0      0.0    0.0     0.0     0.0      0.0     0.0      0.0   \n",
       "KBTR     0.0      0.0    0.0     0.0     0.0      0.0     0.0      0.0   \n",
       "KCMY     0.0      0.0    0.0     0.0     0.0      0.0     0.0      0.0   \n",
       "\n",
       "      inSnow  secSnow  inStorm  secStorm  inPrecipitation  secPrecipitation  \n",
       "K04V     0.0      0.0      0.0       0.0              0.0               0.0  \n",
       "KAXS     0.0      0.0      0.0       0.0              0.0               0.0  \n",
       "KAEL     0.0      0.0      0.0       0.0              0.0               0.0  \n",
       "KBTR     0.0      0.0      0.0       0.0              0.0               0.0  \n",
       "KCMY     0.0      0.0      0.0       0.0              0.0               0.0  "
      ]
     },
     "execution_count": 10,
     "metadata": {},
     "output_type": "execute_result"
    }
   ],
   "source": [
    "aggregateData.head()"
   ]
  },
  {
   "cell_type": "code",
   "execution_count": 11,
   "id": "e3820b0c-626e-4373-a611-7ddc57d8fe9c",
   "metadata": {},
   "outputs": [
    {
     "data": {
      "text/plain": [
       "inCold              0.0\n",
       "secCold             0.0\n",
       "inFog               0.0\n",
       "secFog              0.0\n",
       "inHail              0.0\n",
       "secHail             0.0\n",
       "inRain              0.0\n",
       "secRain             0.0\n",
       "inSnow              0.0\n",
       "secSnow             0.0\n",
       "inStorm             0.0\n",
       "secStorm            0.0\n",
       "inPrecipitation     0.0\n",
       "secPrecipitation    0.0\n",
       "Name: K04V, dtype: float64"
      ]
     },
     "execution_count": 11,
     "metadata": {},
     "output_type": "execute_result"
    }
   ],
   "source": [
    "aggregateData.loc['K04V']"
   ]
  },
  {
   "cell_type": "code",
   "execution_count": 12,
   "id": "15b7ce87-a73f-4c5d-be25-d5c1461c2f98",
   "metadata": {},
   "outputs": [
    {
     "name": "stdout",
     "output_type": "stream",
     "text": [
      "0\n",
      "200000\n",
      "400000\n",
      "600000\n",
      "800000\n",
      "1000000\n",
      "1200000\n",
      "1400000\n",
      "1600000\n",
      "1800000\n",
      "2000000\n",
      "2200000\n",
      "2400000\n",
      "2600000\n",
      "2800000\n",
      "3000000\n",
      "3200000\n",
      "3400000\n",
      "3600000\n",
      "3800000\n",
      "4000000\n",
      "4200000\n",
      "4400000\n",
      "4600000\n",
      "4800000\n",
      "5000000\n",
      "5200000\n",
      "5400000\n",
      "5600000\n",
      "5800000\n",
      "6000000\n",
      "6200000\n",
      "6400000\n",
      "6600000\n",
      "6800000\n",
      "7000000\n",
      "7200000\n",
      "7400000\n",
      "7600000\n",
      "7800000\n",
      "8000000\n",
      "8200000\n",
      "8400000\n",
      "8600000\n"
     ]
    }
   ],
   "source": [
    "#this will take a while\n",
    "\n",
    "for i in range(len(weather)):\n",
    "    #for status\n",
    "    if (i % 200000 == 0):\n",
    "        print(i)\n",
    "    \n",
    "    event = weather.iloc[i]\n",
    "    time = (dt.datetime.strptime(event['EndTime(UTC)'], '%Y-%m-%d %H:%M:%S')\n",
    "            - dt.datetime.strptime(event['StartTime(UTC)'], '%Y-%m-%d %H:%M:%S')\n",
    "           ).total_seconds()\n",
    "    aggregateData.loc[event.AirportCode]['in'+event.Type] += event['Precipitation(in)']\n",
    "    aggregateData.loc[event.AirportCode]['sec'+event.Type] += time\n",
    "    "
   ]
  },
  {
   "cell_type": "code",
   "execution_count": 13,
   "id": "3a9b417c-47c1-4a1d-8780-c5b9141918cc",
   "metadata": {},
   "outputs": [
    {
     "data": {
      "text/html": [
       "<div>\n",
       "<style scoped>\n",
       "    .dataframe tbody tr th:only-of-type {\n",
       "        vertical-align: middle;\n",
       "    }\n",
       "\n",
       "    .dataframe tbody tr th {\n",
       "        vertical-align: top;\n",
       "    }\n",
       "\n",
       "    .dataframe thead th {\n",
       "        text-align: right;\n",
       "    }\n",
       "</style>\n",
       "<table border=\"1\" class=\"dataframe\">\n",
       "  <thead>\n",
       "    <tr style=\"text-align: right;\">\n",
       "      <th></th>\n",
       "      <th>inCold</th>\n",
       "      <th>secCold</th>\n",
       "      <th>inFog</th>\n",
       "      <th>secFog</th>\n",
       "      <th>inHail</th>\n",
       "      <th>secHail</th>\n",
       "      <th>inRain</th>\n",
       "      <th>secRain</th>\n",
       "      <th>inSnow</th>\n",
       "      <th>secSnow</th>\n",
       "      <th>inStorm</th>\n",
       "      <th>secStorm</th>\n",
       "      <th>inPrecipitation</th>\n",
       "      <th>secPrecipitation</th>\n",
       "    </tr>\n",
       "  </thead>\n",
       "  <tbody>\n",
       "    <tr>\n",
       "      <th>K04V</th>\n",
       "      <td>0.0</td>\n",
       "      <td>2664240.0</td>\n",
       "      <td>0.0</td>\n",
       "      <td>167400.0</td>\n",
       "      <td>0.0</td>\n",
       "      <td>0.0</td>\n",
       "      <td>14.82</td>\n",
       "      <td>3263640.0</td>\n",
       "      <td>12.60</td>\n",
       "      <td>3680040.0</td>\n",
       "      <td>0.0</td>\n",
       "      <td>186960.0</td>\n",
       "      <td>12.30</td>\n",
       "      <td>38700.0</td>\n",
       "    </tr>\n",
       "    <tr>\n",
       "      <th>KAXS</th>\n",
       "      <td>0.0</td>\n",
       "      <td>536400.0</td>\n",
       "      <td>0.0</td>\n",
       "      <td>7380540.0</td>\n",
       "      <td>0.0</td>\n",
       "      <td>0.0</td>\n",
       "      <td>170.94</td>\n",
       "      <td>7127460.0</td>\n",
       "      <td>3.12</td>\n",
       "      <td>782640.0</td>\n",
       "      <td>0.0</td>\n",
       "      <td>170520.0</td>\n",
       "      <td>38.07</td>\n",
       "      <td>81480.0</td>\n",
       "    </tr>\n",
       "    <tr>\n",
       "      <th>KAEL</th>\n",
       "      <td>0.0</td>\n",
       "      <td>3346320.0</td>\n",
       "      <td>0.0</td>\n",
       "      <td>4802160.0</td>\n",
       "      <td>0.0</td>\n",
       "      <td>0.0</td>\n",
       "      <td>135.52</td>\n",
       "      <td>10205940.0</td>\n",
       "      <td>7.33</td>\n",
       "      <td>6819000.0</td>\n",
       "      <td>0.0</td>\n",
       "      <td>3600.0</td>\n",
       "      <td>37.41</td>\n",
       "      <td>112320.0</td>\n",
       "    </tr>\n",
       "    <tr>\n",
       "      <th>KBTR</th>\n",
       "      <td>0.0</td>\n",
       "      <td>418140.0</td>\n",
       "      <td>0.0</td>\n",
       "      <td>4418880.0</td>\n",
       "      <td>0.0</td>\n",
       "      <td>0.0</td>\n",
       "      <td>739.18</td>\n",
       "      <td>12821280.0</td>\n",
       "      <td>0.33</td>\n",
       "      <td>57060.0</td>\n",
       "      <td>0.0</td>\n",
       "      <td>10920.0</td>\n",
       "      <td>336.40</td>\n",
       "      <td>561420.0</td>\n",
       "    </tr>\n",
       "    <tr>\n",
       "      <th>KCMY</th>\n",
       "      <td>0.0</td>\n",
       "      <td>1944660.0</td>\n",
       "      <td>0.0</td>\n",
       "      <td>3648300.0</td>\n",
       "      <td>0.0</td>\n",
       "      <td>0.0</td>\n",
       "      <td>280.46</td>\n",
       "      <td>10496820.0</td>\n",
       "      <td>7.29</td>\n",
       "      <td>6474600.0</td>\n",
       "      <td>0.0</td>\n",
       "      <td>1200.0</td>\n",
       "      <td>55.07</td>\n",
       "      <td>207300.0</td>\n",
       "    </tr>\n",
       "  </tbody>\n",
       "</table>\n",
       "</div>"
      ],
      "text/plain": [
       "      inCold    secCold  inFog     secFog  inHail  secHail  inRain  \\\n",
       "K04V     0.0  2664240.0    0.0   167400.0     0.0      0.0   14.82   \n",
       "KAXS     0.0   536400.0    0.0  7380540.0     0.0      0.0  170.94   \n",
       "KAEL     0.0  3346320.0    0.0  4802160.0     0.0      0.0  135.52   \n",
       "KBTR     0.0   418140.0    0.0  4418880.0     0.0      0.0  739.18   \n",
       "KCMY     0.0  1944660.0    0.0  3648300.0     0.0      0.0  280.46   \n",
       "\n",
       "         secRain  inSnow    secSnow  inStorm  secStorm  inPrecipitation  \\\n",
       "K04V   3263640.0   12.60  3680040.0      0.0  186960.0            12.30   \n",
       "KAXS   7127460.0    3.12   782640.0      0.0  170520.0            38.07   \n",
       "KAEL  10205940.0    7.33  6819000.0      0.0    3600.0            37.41   \n",
       "KBTR  12821280.0    0.33    57060.0      0.0   10920.0           336.40   \n",
       "KCMY  10496820.0    7.29  6474600.0      0.0    1200.0            55.07   \n",
       "\n",
       "      secPrecipitation  \n",
       "K04V           38700.0  \n",
       "KAXS           81480.0  \n",
       "KAEL          112320.0  \n",
       "KBTR          561420.0  \n",
       "KCMY          207300.0  "
      ]
     },
     "execution_count": 13,
     "metadata": {},
     "output_type": "execute_result"
    }
   ],
   "source": [
    "aggregateData.head()"
   ]
  },
  {
   "cell_type": "code",
   "execution_count": 16,
   "id": "710c8ea1-36a2-4fa2-ba58-704b52a9e3bb",
   "metadata": {},
   "outputs": [
    {
     "data": {
      "text/plain": [
       "K04V     14.82\n",
       "KAXS    170.94\n",
       "KAEL    135.52\n",
       "KBTR    739.18\n",
       "KCMY    280.46\n",
       "         ...  \n",
       "KE33      0.00\n",
       "KH21    242.26\n",
       "KB23     51.73\n",
       "KARL     11.13\n",
       "KBVR     77.12\n",
       "Name: inRain, Length: 2071, dtype: float64"
      ]
     },
     "execution_count": 16,
     "metadata": {},
     "output_type": "execute_result"
    }
   ],
   "source": [
    "aggregateData.inRain"
   ]
  },
  {
   "cell_type": "code",
   "execution_count": 32,
   "id": "93c64c8e-0989-460c-b69e-a4f1fa705481",
   "metadata": {},
   "outputs": [
    {
     "data": {
      "text/plain": [
       "inCold              0.000000e+00\n",
       "secCold             2.835263e+06\n",
       "inFog               0.000000e+00\n",
       "secFog              4.472437e+06\n",
       "inHail              0.000000e+00\n",
       "secHail             3.076340e+03\n",
       "inRain              2.637405e+02\n",
       "secRain             9.908268e+06\n",
       "inSnow              1.493362e+01\n",
       "secSnow             3.410854e+06\n",
       "inStorm             0.000000e+00\n",
       "secStorm            1.619702e+05\n",
       "inPrecipitation     1.082136e+02\n",
       "secPrecipitation    1.969492e+05\n",
       "dtype: float64"
      ]
     },
     "execution_count": 32,
     "metadata": {},
     "output_type": "execute_result"
    }
   ],
   "source": [
    "aggregateData.mean()"
   ]
  },
  {
   "cell_type": "code",
   "execution_count": 117,
   "id": "b66c1e65-844e-4b66-aa2d-77fc303e22f8",
   "metadata": {},
   "outputs": [
    {
     "name": "stdout",
     "output_type": "stream",
     "text": [
      "Maxima: \n",
      "<tr><td>daysCold</td><td>KAWN</td><td>173.4</td></tr>\n",
      "<tr><td>daysFog</td><td>KMWN</td><td>68.98</td></tr>\n",
      "<tr><td>daysHail</td><td>KGOV</td><td>0.97</td></tr>\n",
      "<tr><td>inRain</td><td>KUIL</td><td>206.74</td></tr>\n",
      "<tr><td>daysRain</td><td>KRNV</td><td>67.2</td></tr>\n",
      "<tr><td>inSnow</td><td>KMDS</td><td>132.27</td></tr>\n",
      "<tr><td>daysSnow</td><td>K3TH</td><td>62.34</td></tr>\n",
      "<tr><td>daysStorm</td><td>KMWN</td><td>169.15</td></tr>\n",
      "<tr><td>inPrecipitation</td><td>KJRB</td><td>7232.15</td></tr>\n",
      "<tr><td>daysPrecipitation</td><td>K5H4</td><td>34.87</td></tr>\n"
     ]
    }
   ],
   "source": [
    "#output for HTML table\n",
    "\n",
    "print(\"Maxima: \")\n",
    "for i in columnTypes:\n",
    "    if i in ['inCold', 'inFog', 'inHail', 'inStorm']:\n",
    "        continue\n",
    "    a=aggregateData[i].idxmax()\n",
    "    param = i\n",
    "    val = aggregateData.loc[a][i]\n",
    "    if i[0:2] == \"in\":\n",
    "        val /= 7\n",
    "    else:\n",
    "        val /= 24 * 3600 * 7\n",
    "        param = \"days\"+i[3:]\n",
    "\n",
    "    val = math.floor(val * 100) / 100 #get rid of decimal places\n",
    "        \n",
    "    print(\"<tr><td>\" + param + \"</td><td>\"+ a + \"</td><td>\" +str(val)+\"</td></tr>\")"
   ]
  },
  {
   "cell_type": "code",
   "execution_count": 94,
   "id": "52e5b519-1e0e-4dcc-96a0-bdef0db658ea",
   "metadata": {},
   "outputs": [
    {
     "name": "stdout",
     "output_type": "stream",
     "text": [
      "Minima: \n",
      "<tr><td>daysCold</td><td>KLAS</td><td>0.0</td></tr>\n",
      "<tr><td>daysFog</td><td>KJGG</td><td>0.0</td></tr>\n",
      "<tr><td>daysHail</td><td>K04V</td><td>0.0</td></tr>\n",
      "<tr><td>inRain</td><td>KJGG</td><td>0.0</td></tr>\n",
      "<tr><td>daysRain</td><td>KJGG</td><td>0.0</td></tr>\n",
      "<tr><td>inSnow</td><td>KJGG</td><td>0.0</td></tr>\n",
      "<tr><td>daysSnow</td><td>KJGG</td><td>0.0</td></tr>\n",
      "<tr><td>daysStorm</td><td>KSPA</td><td>0.0</td></tr>\n",
      "<tr><td>inPrecipitation</td><td>KEMM</td><td>0.0</td></tr>\n",
      "<tr><td>daysPrecipitation</td><td>KEMM</td><td>0.0</td></tr>\n"
     ]
    }
   ],
   "source": [
    "print(\"Minima: \")\n",
    "for i in columnTypes:\n",
    "    if i in ['inCold', 'inFog', 'inHail', 'inStorm']:\n",
    "        continue\n",
    "    a=aggregateData[i].idxmin()\n",
    "    param = i\n",
    "    val = aggregateData.loc[a][i]\n",
    "    if i[0:2] == \"in\":\n",
    "        val /= 7\n",
    "    else:\n",
    "        val /= 24 * 3600 * 7\n",
    "        param = \"days\"+i[3:]\n",
    "\n",
    "    val = math.floor(val * 100) / 100 #get rid of decimal places\n",
    "        \n",
    "    print(\"<tr><td>\" + param + \"</td><td>\"+ a + \"</td><td>\" +str(val)+\"</td></tr>\")"
   ]
  },
  {
   "cell_type": "code",
   "execution_count": 77,
   "id": "7995fc4a-c5d0-40fb-a280-226b5fa9d785",
   "metadata": {},
   "outputs": [],
   "source": [
    "#from stackoverflow\n",
    "def idxquantile(s, q=0.5, *args, **kwargs):\n",
    "    qv = s.quantile(q, *args, **kwargs)\n",
    "    return (s.sort_values()[::-1] <= qv).idxmax()"
   ]
  },
  {
   "cell_type": "code",
   "execution_count": 103,
   "id": "809d24ff-8a7a-49ec-b764-295cfc137d44",
   "metadata": {},
   "outputs": [
    {
     "name": "stdout",
     "output_type": "stream",
     "text": [
      "25th percentile: \n",
      "<tr><td>daysCold</td><td>KTPA</td><td>0.53</td></tr>\n",
      "<tr><td>daysFog</td><td>KEHR</td><td>4.124</td></tr>\n",
      "<tr><td>daysHail</td><td>KDCY</td><td>0.0</td></tr>\n",
      "<tr><td>inRain</td><td>KSHL</td><td>10.112</td></tr>\n",
      "<tr><td>daysRain</td><td>KMWN</td><td>9.655</td></tr>\n",
      "<tr><td>inSnow</td><td>KEDW</td><td>0.044</td></tr>\n",
      "<tr><td>daysSnow</td><td>KBRO</td><td>0.188</td></tr>\n",
      "<tr><td>daysStorm</td><td>KFKN</td><td>0.001</td></tr>\n",
      "<tr><td>inPrecipitation</td><td>KBLU</td><td>1.088</td></tr>\n",
      "<tr><td>daysPrecipitation</td><td>KOQN</td><td>0.047</td></tr>\n"
     ]
    }
   ],
   "source": [
    "#output for HTML table\n",
    "\n",
    "print(\"25th percentile: \")\n",
    "for i in columnTypes:\n",
    "    if i in ['inCold', 'inFog', 'inHail', 'inStorm']:\n",
    "        continue\n",
    "    a=idxquantile(aggregateData[i],0.25)\n",
    "    param = i\n",
    "    val = aggregateData.loc[a][i]\n",
    "    if i[0:2] == \"in\":\n",
    "        val /= 7\n",
    "    else:\n",
    "        val /= 24 * 3600 * 7\n",
    "        param = \"days\"+i[3:]\n",
    "\n",
    "    val = math.floor(val * 1000) / 1000 #get rid of decimal places\n",
    "        \n",
    "    print(\"<tr><td>\" + param + \"</td><td>\"+ a + \"</td><td>\" +str(val)+\"</td></tr>\")"
   ]
  },
  {
   "cell_type": "code",
   "execution_count": 104,
   "id": "01db26cc-c3f8-4130-b706-e2bc5deba19a",
   "metadata": {},
   "outputs": [
    {
     "name": "stdout",
     "output_type": "stream",
     "text": [
      "90th percentile: \n",
      "<tr><td>daysCold</td><td>KFSW</td><td>10.505</td></tr>\n",
      "<tr><td>daysFog</td><td>KMQS</td><td>13.187</td></tr>\n",
      "<tr><td>daysHail</td><td>KHQZ</td><td>0.006</td></tr>\n",
      "<tr><td>inRain</td><td>KJAX</td><td>83.797</td></tr>\n",
      "<tr><td>daysRain</td><td>KSGH</td><td>26.877</td></tr>\n",
      "<tr><td>inSnow</td><td>KHDN</td><td>5.438</td></tr>\n",
      "<tr><td>daysSnow</td><td>KBHK</td><td>15.307</td></tr>\n",
      "<tr><td>daysStorm</td><td>K8D3</td><td>0.432</td></tr>\n",
      "<tr><td>inPrecipitation</td><td>KCTZ</td><td>25.665</td></tr>\n",
      "<tr><td>daysPrecipitation</td><td>KMCN</td><td>0.611</td></tr>\n"
     ]
    }
   ],
   "source": [
    "#output for HTML table\n",
    "\n",
    "print(\"90th percentile: \")\n",
    "for i in columnTypes:\n",
    "    if i in ['inCold', 'inFog', 'inHail', 'inStorm']:\n",
    "        continue\n",
    "    a=idxquantile(aggregateData[i],0.9)\n",
    "    param = i\n",
    "    val = aggregateData.loc[a][i]\n",
    "    if i[0:2] == \"in\":\n",
    "        val /= 7\n",
    "    else:\n",
    "        val /= 24 * 3600 * 7\n",
    "        param = \"days\"+i[3:]\n",
    "\n",
    "    val = math.floor(val * 1000) / 1000 #get rid of decimal places\n",
    "        \n",
    "    print(\"<tr><td>\" + param + \"</td><td>\"+ a + \"</td><td>\" +str(val)+\"</td></tr>\")"
   ]
  },
  {
   "cell_type": "code",
   "execution_count": 97,
   "id": "129803ed-436e-4d91-89a4-c91169a7b701",
   "metadata": {},
   "outputs": [
    {
     "name": "stdout",
     "output_type": "stream",
     "text": [
      "Medians\n",
      "<tr><td>daysCold</td><td>KCRX</td><td>1.57</td></tr>\n",
      "<tr><td>daysFog</td><td>KISO</td><td>6.369</td></tr>\n",
      "<tr><td>daysHail</td><td>KDCY</td><td>0.0</td></tr>\n",
      "<tr><td>inRain</td><td>KCQT</td><td>31.735</td></tr>\n",
      "<tr><td>daysRain</td><td>KPTN</td><td>16.338</td></tr>\n",
      "<tr><td>inSnow</td><td>KLFI</td><td>0.721</td></tr>\n",
      "<tr><td>daysSnow</td><td>KMTN</td><td>2.398</td></tr>\n",
      "<tr><td>daysStorm</td><td>KMEZ</td><td>0.019</td></tr>\n",
      "<tr><td>inPrecipitation</td><td>KMSS</td><td>5.717</td></tr>\n",
      "<tr><td>daysPrecipitation</td><td>KOKV</td><td>0.186</td></tr>\n"
     ]
    }
   ],
   "source": [
    "#output for HTML table\n",
    "\n",
    "print(\"Medians\")\n",
    "for i in columnTypes:\n",
    "    if i in ['inCold', 'inFog', 'inHail', 'inStorm']:\n",
    "        continue\n",
    "    a=idxquantile(aggregateData[i],0.50)\n",
    "    param = i\n",
    "    val = aggregateData.loc[a][i]\n",
    "    if i[0:2] == \"in\":\n",
    "        val /= 7\n",
    "    else:\n",
    "        val /= 24 * 3600 * 7\n",
    "        param = \"days\"+i[3:]\n",
    "\n",
    "    val = math.floor(val * 1000) / 1000 #get rid of decimal places\n",
    "        \n",
    "    print(\"<tr><td>\" + param + \"</td><td>\"+ a + \"</td><td>\" +str(val)+\"</td></tr>\")"
   ]
  },
  {
   "cell_type": "code",
   "execution_count": 111,
   "id": "343bfe7d-04d1-469a-9982-c65a369c37a8",
   "metadata": {},
   "outputs": [
    {
     "data": {
      "text/plain": [
       "<Axes: >"
      ]
     },
     "execution_count": 111,
     "metadata": {},
     "output_type": "execute_result"
    },
    {
     "data": {
      "image/png": "[encoded data removed]",
      "text/plain": [
       "<Figure size 640x480 with 1 Axes>"
      ]
     },
     "metadata": {},
     "output_type": "display_data"
    }
   ],
   "source": [
    "#generate bar graph for inRain\n",
    "(aggregateData.sort_values('inRain')/7).plot.bar(y='inRain')\n",
    "\n",
    "#ignore the demonic text at the bottom"
   ]
  },
  {
   "cell_type": "code",
   "execution_count": 126,
   "id": "a7c13930-0700-4093-9a1d-143282529429",
   "metadata": {},
   "outputs": [
    {
     "data": {
      "text/plain": [
       "<Axes: ylabel='daysRain'>"
      ]
     },
     "execution_count": 126,
     "metadata": {},
     "output_type": "execute_result"
    },
    {
     "data": {
      "image/png": "[encoded data removed]",
      "text/plain": [
       "<Figure size 640x480 with 1 Axes>"
      ]
     },
     "metadata": {},
     "output_type": "display_data"
    }
   ],
   "source": [
    "#generate bar graph for inRain\n",
    "(aggregateData.sort_values('secRain')/3600/24/7).plot.bar(y='secRain', ylabel=\"daysRain\")"
   ]
  },
  {
   "cell_type": "code",
   "execution_count": 112,
   "id": "4a7e221f-152f-4173-888e-23734252ea37",
   "metadata": {},
   "outputs": [
    {
     "data": {
      "text/plain": [
       "<Axes: xlabel='secRain', ylabel='inRain'>"
      ]
     },
     "execution_count": 112,
     "metadata": {},
     "output_type": "execute_result"
    },
    {
     "data": {
      "image/png": "[encoded data removed]",
      "text/plain": [
       "<Figure size 640x480 with 1 Axes>"
      ]
     },
     "metadata": {},
     "output_type": "display_data"
    }
   ],
   "source": [
    "#generate scatterplot for rain\n",
    "aggregateData.plot.scatter(x='secRain', y='inRain')"
   ]
  },
  {
   "cell_type": "code",
   "execution_count": 175,
   "id": "31dc88a0-742f-432e-8c1d-0631ceede924",
   "metadata": {},
   "outputs": [
    {
     "name": "stdout",
     "output_type": "stream",
     "text": [
      "KMCD\n",
      "KPUW\n",
      "KRQB\n",
      "3\n"
     ]
    }
   ],
   "source": [
    "#finding the place with the best weather\n",
    "\n",
    "count1=0\n",
    "for i in range(2071):\n",
    "    a = aggregateData.iloc[i]\n",
    "    count1+=1\n",
    "    if a.secCold/3600/24/7 > 0.5: #filter out too much severe cold\n",
    "        count1-=1\n",
    "        continue\n",
    "\n",
    "    if a.inRain/7 > 35: # filter out too much rain\n",
    "        count1-=1\n",
    "        continue\n",
    "\n",
    "    if a.inRain/7 < 25: # filter out not enough rain\n",
    "        count1-=1\n",
    "        continue\n",
    "\n",
    "    if a.inSnow/7 < 5: # filter out no snow\n",
    "        count1-=1\n",
    "        continue\n",
    "    \n",
    "    if a.inSnow/7 > 18: # filter out too much snow\n",
    "        count1-=1\n",
    "        continue\n",
    "\n",
    "    print(a.name)\n",
    "        \n",
    "\n",
    "print(count1)"
   ]
  },
  {
   "cell_type": "code",
   "execution_count": null,
   "id": "eae75e8c-9982-4cc0-bae8-9e3384ada6f6",
   "metadata": {},
   "outputs": [],
   "source": []
  }
 ],
 "metadata": {
  "kernelspec": {
   "display_name": "Python 3 (ipykernel)",
   "language": "python",
   "name": "python3"
  },
  "language_info": {
   "codemirror_mode": {
    "name": "ipython",
    "version": 3
   },
   "file_extension": ".py",
   "mimetype": "text/x-python",
   "name": "python",
   "nbconvert_exporter": "python",
   "pygments_lexer": "ipython3",
   "version": "3.11.5"
  }
 },
 "nbformat": 4,
 "nbformat_minor": 5
}
